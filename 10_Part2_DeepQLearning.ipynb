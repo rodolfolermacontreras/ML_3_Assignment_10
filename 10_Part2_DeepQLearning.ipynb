{
 "cells": [
  {
   "cell_type": "markdown",
   "metadata": {},
   "source": [
    "## Student: Rodolfo Lerma\n",
    "\n",
    "# Introduction to Deep Q Learning\n",
    "\n",
    "## Machine Learning 530\n",
    "\n",
    "### Stephen Elston"
   ]
  },
  {
   "cell_type": "markdown",
   "metadata": {},
   "source": [
    "To date we have only considered reinforcement learning problems with a small number of **discrete states**. So far, we have applied **tabular algorithms** to the solution of RL problems. However, tabular methods will not work in cases where the tables are too large to be held in computer memory or where states are not discrete values. \n",
    "\n",
    "But, many practical problems have a very large numbers of discrete states or have continuous states. Some example of such problems:  \n",
    "1. A Game such as chess or backgammon with a great number of possible board states. While the number of states is **countably finite** there are far too many for tabular solutions. For example, consider that each piece in a chess game can occupy any of 64 positions, and that there are anywhere between 32 pieces and 2 pieces on the board at a given time step. This situation leads to an explosion in possible states. Other games, such a Go, have far more states than chess.   \n",
    "2. A simple flight control system for a drone which has an infinite number of states in terms of 3-dimensional velocity, acceleration, and position, along with pitch yaw and role. All 12 of these variables have **continuous values** and, thus, an **infinite number of states**.   \n",
    "\n",
    "To address such problems we need better representations. In this lesson we will focus on a powerful class of representations known as **deep function approximation**. By using function approximation we can represent a large number of states, even an infinite number, using deep neural networks. At least in principle, problems of great complexity can be tackled with this approach.  \n",
    "\n",
    "A reinforcement learning agent using function approximation is illustrated schematically in the figure below. \n",
    "\n",
    "<img src=\"img/AgentEnvironment.JPG\" alt=\"Drawing\" style=\"width:500px; height:300px\"/>\n",
    "<center> **Reinforcement Learning Agent with Function Approximation Representation and Environment** </center>  \n",
    "\n",
    "In this lesson we will only address function approximation methods for **episodic** tasks. \n",
    "\n",
    ">**Code examples in depth:** *Deep Reinforcement Learning Hands-On* by Maxim Lapan, Packt, 2018, provides considerable detail on deep Q learning. The book contains in-depth examples and discusses important implementation details. The examples in this book use the PyTorch deep learning framework. \n",
    "\n",
    "In order to run all of the examples in this notebook you will need to install [Keras](https://keras.io/) and h5py; `pip install h5py`."
   ]
  },
  {
   "cell_type": "markdown",
   "metadata": {},
   "source": [
    "## Representation for Non-Tabular RL\n",
    "\n",
    "The main question we will address in this lesson is what representations can we use when tabular methods will not work. The idea key idea is to **encode** a large, possibly infinite, number of states with a **few parameters**. Thus, **state values** or **action values** are represented by some **function of the state** of the environment.  \n",
    "\n",
    "There are, in fact, many possible approaches to this problem. Here we will focus on function approximation methods of which a few examples are: \n",
    "1. Simple **linear** and **polynomial** representations,\n",
    "2. **Fourier basis function** representations,\n",
    "3. **Course coding** using overlapping circular or elliptical regions,\n",
    "4. Various forms of **tile coding**,\n",
    "5. **Radial basis functions** or kernels,\n",
    "5. **Fully connected** deep neural networks, \n",
    "6. **Convolutional** deep neural networks. \n",
    "\n",
    "Each of the first five methods involve **coding** using some type of **basis function**. Basis functions rely on an implicit assumption that **nearby states have similar values**.  The representation is then **linear in the parameters** and **linear solution methods** are used to find these parameters. Linear methods have the advantage of computational efficiency. Further, at least for **on-policy** algorithms, **convergence is guaranteed**.     \n",
    "\n",
    "The deep neural networks provide a distinctly nonlinear function approximation method. Typically, deep neural networks are used for **off-policy Q-Learning** methods. The convergence properties of these algorithms can be problematic. In fact, there are few guarantees of convergence with **off-policy function approximation** algorithms.     "
   ]
  },
  {
   "cell_type": "markdown",
   "metadata": {},
   "source": [
    "### Tile coding\n",
    "\n",
    "Tile coding is a flexible and expressive function approximation method. The basic idea is simple. The **state space is divided** into small patches using a regular pattern of **geometric shapes** or **tiles**. The function approximation has one parameter (weight) for each tile.    \n",
    "\n",
    "An example tile coding of a two dimensional state space is shown in the figure below. In this case, a uniform 8x8 set of tiles are used, leading to a representation with 64 parameters. \n",
    "\n",
    "<img src=\"img/Tile1.JPG\" alt=\"Drawing\" style=\"width:300px; height:300px\"/>\n",
    "<center> **Two-dimensional state space encoded by 8x8 rectangular tiles** </center>\n",
    "\n",
    "In the above diagram the states shown by **X** are in the same tile and will be coded with the same parameter. The states show by **O** are in different tiles and are coded with different parameters. \n",
    "\n",
    "However, the tile codings are far from unique. Consider the tiling of the same state space shown in the figure below. In this case the tiles are a 4X16 grid. As in the first case, there are still 64 parameters. \n",
    "\n",
    "<img src=\"img/Tile2.JPG\" alt=\"Drawing\" style=\"width:300px; height:300px\"/>\n",
    "<center> **Two-dimensional state space encoded by 4x16 rectangular tiles** </center>\n",
    "\n",
    "In the above coding the states shown with **O** are in the same tile and represented by the same parameter. But, the states shown as **X** are now in different tiles and are represented by different parameters. \n",
    "\n",
    "A great many tile coding schemes are possible. Commonly, multiple tiling schemes are used simultaneously. This practice allows for the capture of information at **different scales**. "
   ]
  },
  {
   "cell_type": "markdown",
   "metadata": {},
   "source": [
    "### Deep neural networks\n",
    "\n",
    "Deep neural networks are powerful function approximation methods. In most cases one of two deep neural network architectures are used:\n",
    "1. Fully connected network are used for cases where there are complex and highly nonlinear relationships between state values or action values. \n",
    "2. Convolutional networks are useful for cases where there is value coherency between adjacent states. Common examples include images and time series data.  \n",
    "\n",
    "In principle deep neural networks can approximate even highly complex nonlinear functions. Neural networks have been reviewed in a previous lesson. Here, we will just summarize some of the drawbacks of this attractive representation. \n",
    "1. Given the large number of parameters a large number of episodes are required for training. It is not unusual for several tens of millions of episodes to be required. Therefore, training time can be significantly longer than for other algorithms.\n",
    "2. As a result of the large number of parameters (high degrees of freedom) over-fitting is a constant problem. Careful attention must be paid to regularization methods. \n",
    "3. Deep neural network are known to have **brittle behavior**, wherein small changes in the input can result in surprising or unexpected predictions.\n",
    "\n",
    "The foregoing not withstanding, trained neural network models can be reasonably computationally efficient. In fact, prediction using trained neural network models is preformed routinely, even in embedded environments. "
   ]
  },
  {
   "cell_type": "markdown",
   "metadata": {},
   "source": [
    "## The Mountain Car Problem\n",
    "\n",
    "The [mountain car problem](https://en.wikipedia.org/wiki/Mountain_car_problem) was first proposed in the [Andew Moore's Ph.D. dissertation (1990)](http://citeseerx.ist.psu.edu/viewdoc/summary?doi=10.1.1.17.2654). The mountain car problem has become a canonical testbed for many reinforcement learning algorithms. \n",
    "\n",
    "In this problem an under-powered car must climb a steep hill. However, the car does not have sufficient engine power to climb the grade. The car must travel up another hill in order to gain sufficient speed (actually kinetic energy) to climb the large hill. \n",
    "\n",
    "The position, $x$, and velocity, $\\dot{x}$, of the car are the state variables. The updates of the state variables at each time step are determined by the following equations: \n",
    "\n",
    "$$x' = x + \\dot{x} \\\\\n",
    "\\dot{x}' = \\dot{x} + 0.001 * \\ddot{x} - 0.0025 * cos(3 * x)$$\n",
    "\n",
    "The object of this problem is to find the optimal acceleration given the car state to allow the car to get to the top of the hill. The car has three acceleration states, $\\ddot{x}$, which must be selected by the agent:\n",
    "\n",
    "$$\\ddot{x} = \\{ -1.0, 0.0, 1.0 \\}$$\n",
    "\n",
    "The position and velocity are bounded, with the goal at the upper bound of position:\n",
    "\n",
    "$$-1.2 \\le x \\le 0.5 \\\\\n",
    "-0.07 \\le \\dot{x} \\le 0.07$$\n",
    "\n",
    "The reward at each time step is -1.0 and the reward for reaching the goal is 100.  \n",
    "\n",
    "The car is randomly initialized using a uniform distribution:\n",
    "\n",
    "$$p(x_0) = uniform(-0.6 \\le x_0 \\le -0.4)$$"
   ]
  },
  {
   "cell_type": "markdown",
   "metadata": {},
   "source": [
    "### The mountain car problem is hard\n",
    "\n",
    "At first glance, the mountain car problem may seem like it should have an easy solution. However, looks are deceptive. The learning an optimal policy for this problem is difficult. In fact, conventional control theory approaches fail to provide solutions. Some reasons for this difficulty include:\n",
    "1. The non-linear coupling between the two state variables, which makes the state transitions between the infinite number of states hard to predict.\n",
    "2. The delayed reward which is only observed when the goal is achieved. This fact is common to many difficult RL problems. "
   ]
  },
  {
   "cell_type": "markdown",
   "metadata": {},
   "source": [
    "## Q-Learning and Function Approximation\n",
    "\n",
    "### Instability of Q-learning with function approximation\n",
    "\n",
    "Recall the single step Q-learning or **Q-learning(0)** update is:\n",
    "\n",
    "$$Q(S_t,A_t) = Q(S_t,A_t) + \\alpha \\big[ R_{t+1} + \\gamma\\ max_a Q(S_{t+1},a) - Q(S_t,A_t) \\big]$$  \n",
    "\n",
    "Where,   \n",
    "$\\delta_t = R_{t+1} + \\gamma max_a Q(S_{t+1},a) - Q(S_t,A_t) = $ the TD error,   \n",
    "$max_a = $ the maximum operator applied to all possible actions in state $S_{t+1}$,   \n",
    "$Q(S_t,A_t) = $ is the action value in state S given action A,  \n",
    "$R_{t+1} = $ is the reward for the next time step,   \n",
    "$\\alpha = $ the learning rate,   \n",
    "$\\gamma = $ discount factor.  \n",
    "\n",
    "But, what happens when we try to use a function approximator? Using, $\\hat{Q}(S_t,A_t, w_t)$, the function approximation, the Q-learning update becomes:   \n",
    "\n",
    "$$\\hat{Q}(S_t,A_t, w_t) = \\hat{Q}(S_t,A_t, w_t) + \\alpha \\big[ R_{t+1} + \\gamma\\ max_a \\hat{Q}(S_{t+1},a, w_t) - \\hat{Q}(S_t,A_t, w_t) \\big]$$  \n",
    "\n",
    "The above relationship uses the $max$ operator, a **nonlinear operation**. But, the weight vector, $\\mathbf{w}$, of the function approximator, $\\hat{Q}(S_t,A_t, \\mathbf{w})$, must minimize the error:   \n",
    "\n",
    "$$\\overline{VE}(\\mathbf{w}) = \\sum_{s \\in S} \\mu(s) \\Big[ q_{\\pi}(s,a) -  \\hat{q}(s,a, \\mathbf{w}) \\Big]^2$$ \n",
    "\n",
    "The above is a **least squares minimization** relationship. \n",
    "\n",
    "The combination of the TD update using the max operator and the function approximation $\\hat{Q}(S_t,A_t, w_t)$ which minimizes the least squares errors is problematic. Not only are there no convergence guarantees, the TD iteration is generally unstable.\n",
    "\n",
    "The aforementioned problem is not unique to Q-learning. In fact, the problem arises with all off-policy algorithms. This problem has been call the **the deadly triangle of off-policy learning, function approximation, and TD updates**. It is possible to do two of the three, but not all three.  "
   ]
  },
  {
   "cell_type": "markdown",
   "metadata": {},
   "source": [
    "### Q-Learning as a regression problem\n",
    "\n",
    "We have just seen that combining TD updates with Q-learning and function approximation does not work. So, how can Q-learning be applied with function approximation?   \n",
    "\n",
    "We can transform the learning problem into a regression problem. \n",
    "\n",
    "$$\\mathbf{w}_{t+1} = \\mathbf{w}_t + \\alpha  \\big[R_{t+1} + \\gamma\\ \\underset{a}{max}\\ Q_{\\pi}(s_{t+1},a_{t+1}) - \\hat{Q}(s_t, a_t, \\mathbf{w}_t) \\big]\\nabla_w \\hat{Q}(s_t, a_t,\\mathbf{w}_t)$$\n",
    "\n",
    "The regression sum of squared error term to be minimized is:  \n",
    "\n",
    "$$\\sum \\delta_t^2 = \\sum \\big( G_t - \\hat{Q}(s_t, a_t, \\mathbf{w}_t) \\big)^2$$   \n",
    "\n",
    "Where the gain is:    \n",
    "\n",
    "$$G_t = R_{t+1} + \\gamma\\ \\underset{a}{max}\\ Q_{\\pi}(s_{t+1},a, \\mathbf{w})$$\n",
    "\n",
    "The gradient with respect to the parameters or weight vector, $\\mathbf{w}$, is defined as:    \n",
    "\n",
    "$$\\hat\\nabla_w {q}(S_t, A_t,\\mathbf{w}_t) = \n",
    "\\begin{bmatrix} \n",
    "\\frac{\\partial \\hat{v}(S_t, A_t, \\mathbf{w}_t)}{\\partial w_1} \\\\\n",
    "\\frac{\\partial \\hat{v}(S_t, A_t, \\mathbf{w}_t)}{\\partial w_2} \\\\\n",
    "\\vdots \\\\\n",
    "\\frac{\\partial \\hat{v}(S_t,A_t, \\mathbf{w}_t)}{\\partial w_d}\n",
    "\\end{bmatrix}$$\n",
    "\n",
    "Assuming the function approximator has a continuous derivative the gradient can be computed. In this case, the approximator can be learned using **stochastic gradient descent**.   "
   ]
  },
  {
   "cell_type": "markdown",
   "metadata": {},
   "source": [
    "### The DQN algorithm\n",
    "\n",
    "Deep neural networks are powerful function approximators. The DQN algorithm uses a **deep neural network linear regression** to learn a Q function approximator. The **loss function** for this regression problem can be written:     \n",
    "\n",
    "$$J(\\mathbf{w}_t) = \\frac{1}{2} \\parallel G_t - \\hat{Q}(s_t, a_t, \\mathbf{w}_t)   \\parallel^2$$\n",
    "\n",
    "But, this regression problem is not standard. The value of $Y_t$ must be computed using **bootstrap estimates**. This situation can lead to **instability and non-convergence**. The DQN algorithm solves this problem by using two neural network models:    \n",
    "1. An **online model** which learns $\\hat{Q}(S, A, \\mathbf{w}_t)$, the action-value approximation function. \n",
    "2. A **target model** for the bootstrap estimate of $Q_{\\pi}(S,A,\\mathbf{w}^-)$. This model is updated periodically by creating a copy of the online model, $\\mathbf{w} \\rightarrow \\mathbf{w}^-$. The weights of the the target model, $\\mathbf{w}^-$, are frozen between updates.   \n",
    "\n",
    "Thus the gain for the DQN algorithm can be expressed:\n",
    "\n",
    "$$G_t^{DQN} = R_{t+1} + \\gamma\\ \\underset{a}{max}\\ Q_{\\pi}(s_{t+1},a_{t+1}, \\mathbf{w}_t^-)$$\n",
    "\n",
    "There is one important component needed for the the complete DQN algorithm, the **replay buffer**. The stochastic gradient descent requires mini-batch samples. But sampling an environment is a sequential operation. The replay buffer accumulates a large number of data samples. When the capacity of the buffer is reached, older samples are removed from the buffer. At the minimum, the replay buffer contains:\n",
    "\n",
    "- The bootstrap gain for the sample, $G_t$, from the target model.\n",
    "- The action-value estimate from the online model, $\\hat{Q}(s_t, a_t, \\mathbf{w}_t)$.  \n",
    "- The state information from the environment.\n",
    "\n",
    "The concept of the replay buffer is illustrated below. The time steps as data are added and then removed run from left to right.  \n",
    "\n",
    "<img src=\"img/ReplayBuffer.JPG\" alt=\"Drawing\" style=\"width:600px; height:300px\"/>\n",
    "<center> **Example of adding samples to the replay buffer** </center>\n",
    "\n",
    "The key components of the DQN algorithm and their relationships are shown illustrated in the diagram below.\n",
    "\n",
    "<img src=\"img/DQN.JPG\" alt=\"Drawing\" style=\"width:600px; height:250px\"/>\n",
    "<center> **Key components of the DQN algorithm** </center>"
   ]
  },
  {
   "cell_type": "markdown",
   "metadata": {},
   "source": [
    "### Simulation of car environment\n",
    "\n",
    "The code in the cell below **simulates the car environment**. Two functions are used by the agent to interact with the environment:\n",
    "1. The `sim_car` function returns a state transition and a reward, given the agent's current state and an action. In addition, a flag is returned to indicate if the goal has been reached.\n",
    "2. The `initialize_car` function returns a random starting position for the car within the specified bounds. \n",
    "\n",
    "Taken together, calls to these two functions define the **boundary between the agent and the environement**. Execute the code in the cell below to exercise these functions and examine the resulting plots for a case where the acceleration is set to 0. \n",
    "\n",
    ">**Note:** An Open AI Gym [environment simulator](https://gym.openai.com/envs/MountainCarContinuous-v0/) for the mountain car problem is available. "
   ]
  },
  {
   "cell_type": "code",
   "execution_count": 1,
   "metadata": {
    "scrolled": false
   },
   "outputs": [
    {
     "data": {
      "image/png": "[encoded data removed]",
      "text/plain": [
       "<Figure size 432x288 with 2 Axes>"
      ]
     },
     "metadata": {
      "needs_background": "light"
     },
     "output_type": "display_data"
    }
   ],
   "source": [
    "from math import cos\n",
    "import numpy as np\n",
    "import numpy.random as nr\n",
    "import matplotlib.pyplot as plt\n",
    "import keras\n",
    "import keras.utils.np_utils as ku\n",
    "import keras.models as models\n",
    "import keras.layers as layers\n",
    "from keras.layers import Dropout\n",
    "from keras import regularizers\n",
    "%matplotlib inline\n",
    "\n",
    "def sim_car(x, x_dot, acceleration, x_lims = (-1.2,0.5), x_dot_lims = (-0.07,0.07)):\n",
    "    ## Compute velocity within limits\n",
    "    x_dot_prime = x_dot + 0.001 * acceleration - 0.0025 * cos(3.0 * x)\n",
    "    if(x_dot_prime < x_dot_lims[0]): x_dot_prime = x_dot_lims[0]\n",
    "    if(x_dot_prime > x_dot_lims[1]): x_dot_prime = x_dot_lims[1]\n",
    "        \n",
    "    ## Now update position\n",
    "    x_prime = x + x_dot\n",
    "    if(x_prime < x_lims[0]): x_prime = x_lims[0]\n",
    "    if(x_prime > x_lims[1]): x_prime = x_lims[1]\n",
    "      \n",
    "    ## At the terminal state or not and set reward\n",
    "    if(x_prime >= x_lims[1]): \n",
    "        done = True\n",
    "        reward = 100.0\n",
    "    else: \n",
    "        done = False\n",
    "        reward = -1.0\n",
    "        \n",
    "    return(x_prime, x_dot_prime, done, reward)    \n",
    "        \n",
    "def initalize_car(x_lims = (-0.6,-0.4)):\n",
    "    ## Find random start for car\n",
    "    return(nr.uniform(x_lims[0],x_lims[1]))\n",
    "\n",
    "## Test the function\n",
    "a = -0.0\n",
    "x_dot = [0.0]\n",
    "x = [initalize_car()]\n",
    "for i in range(100):\n",
    "    x_temp, x_dot_temp, done, reward = sim_car(x[i], x_dot[i], a)\n",
    "    x.append(x_temp)\n",
    "    x_dot.append(x_dot_temp)\n",
    "    \n",
    "def plot_car(x, x_dot):    \n",
    "    ## Plot car position\n",
    "    fig = plt.figure()\n",
    "    ax1 = fig.add_subplot(211)    \n",
    "    ax1.plot(x)\n",
    "    ax1.set_ylabel('Positon of car')\n",
    "    \n",
    "    ## PLot car velocity\n",
    "    ax2 = fig.add_subplot(212)  \n",
    "    ax2.plot(x_dot)\n",
    "    ax2.set_ylabel('Velocity of car')\n",
    "    ax2.set_xlabel('Time')\n",
    "    \n",
    "plot_car(x,x_dot)    "
   ]
  },
  {
   "cell_type": "markdown",
   "metadata": {},
   "source": [
    "With no acceleration applied, the car oscillates back and forth. The motion is not damped since the simulator includes no friction term. "
   ]
  },
  {
   "cell_type": "markdown",
   "metadata": {},
   "source": [
    "## Deep NN Function Approximation for the Mountain Car Problem\n",
    "\n",
    "A general, but computationally intensive, solution to the mountain car problem can be obtained using **deep Q-Learning**. Here we use a neural network model as a function approximator for the action values, $\\hat{q}(S_{t}, A_{t}, w_{t})$. Since the action values are real numbers, the neural networks used to construct the DQN algorithm are regression models.    \n",
    "\n",
    "The code in the cell below defines a simple neural network model to approximate the action values for the mountain car problems. A few key points include:\n",
    "- There are three input variables, the two state variables, position and velocity, along with the action. \n",
    "- A two hidden layers of 64 units are used with dropout and l2 regularization. This is a rather spare representation, but is chosen for convenience of the demonstration rather than accuracy. \n",
    "- Since over-fitting is a constant problem with neural networks three regularization methods are applied, l2 regularization, dropout regularization and early stopping. \n",
    "- Since this is a regression problem, to approximate the numeric action value, the output layer consists of a single unit with linear activation. \n",
    "\n",
    "Execute the code in the cell below to run the simple test case.\n",
    "\n",
    ">**Note:** The code shown in this notebook is intended to illustrate the basic concepts of deep Q-Learning. For more robust solutions you are advised to look at the contributed [keras-rl package](https://github.com/keras-rl/keras-rl)."
   ]
  },
  {
   "cell_type": "code",
   "execution_count": 2,
   "metadata": {},
   "outputs": [
    {
     "data": {
      "text/plain": [
       "array([[0.00083723]], dtype=float32)"
      ]
     },
     "execution_count": 2,
     "metadata": {},
     "output_type": "execute_result"
    }
   ],
   "source": [
    "def DL_model():\n",
    "    ## Define the Keras model\n",
    "    function_approx = models.Sequential()\n",
    "    function_approx.add(layers.Dense(3, activation = 'relu', input_shape = (3,), \n",
    "                                     kernel_regularizer=regularizers.l2(0.01)))\n",
    "    function_approx.add(Dropout(0.5)) # Use 50% dropout\n",
    "    function_approx.add(layers.Dense(64, activation = 'relu', kernel_regularizer=regularizers.l2(0.1)))\n",
    "    function_approx.add(Dropout(0.5)) # Use 50% dropout\n",
    "    function_approx.add(layers.Dense(64, activation = 'relu', kernel_regularizer=regularizers.l2(0.1)))\n",
    "    function_approx.add(Dropout(0.5)) # Use 50% dropout\n",
    "    function_approx.add(layers.Dense(1, activation = 'linear'))\n",
    "    function_approx.compile(optimizer = 'rmsprop', loss = 'mse', metrics = ['mae'])\n",
    "    ## Define the callback list for early stopping   \n",
    "    filepath = 'my_model_file.hdf5' # define where the model checkpoints are saved\n",
    "    callbacks_list = [keras.callbacks.EarlyStopping( #monitor = 'val_loss', patience = 1)\n",
    "            monitor = 'val_loss', # Use loss to monitor the model\n",
    "            patience = 1 # Stop after one step with lower accuracy\n",
    "        ),\n",
    "        keras.callbacks.ModelCheckpoint(\n",
    "            filepath = filepath, # file where the checkpoint is saved\n",
    "            monitor = 'val_loss', # Don't overwrite the saved model unless val_loss is worse\n",
    "            save_best_only = True # Only save model if it is the best\n",
    "        )\n",
    "    ]\n",
    "    return(function_approx)\n",
    "function_approx = DL_model()\n",
    "function_approx.predict(np.array([[0.1,0.1,0.0]]))"
   ]
  },
  {
   "cell_type": "markdown",
   "metadata": {},
   "source": [
    "To display a summary of the model, execute the code in the cell below. "
   ]
  },
  {
   "cell_type": "code",
   "execution_count": 3,
   "metadata": {},
   "outputs": [
    {
     "name": "stdout",
     "output_type": "stream",
     "text": [
      "Model: \"sequential\"\n",
      "_________________________________________________________________\n",
      " Layer (type)                Output Shape              Param #   \n",
      "=================================================================\n",
      " dense (Dense)               (None, 3)                 12        \n",
      "                                                                 \n",
      " dropout (Dropout)           (None, 3)                 0         \n",
      "                                                                 \n",
      " dense_1 (Dense)             (None, 64)                256       \n",
      "                                                                 \n",
      " dropout_1 (Dropout)         (None, 64)                0         \n",
      "                                                                 \n",
      " dense_2 (Dense)             (None, 64)                4160      \n",
      "                                                                 \n",
      " dropout_2 (Dropout)         (None, 64)                0         \n",
      "                                                                 \n",
      " dense_3 (Dense)             (None, 1)                 65        \n",
      "                                                                 \n",
      "=================================================================\n",
      "Total params: 4,493\n",
      "Trainable params: 4,493\n",
      "Non-trainable params: 0\n",
      "_________________________________________________________________\n"
     ]
    }
   ],
   "source": [
    "function_approx.summary()"
   ]
  },
  {
   "cell_type": "markdown",
   "metadata": {},
   "source": [
    "#### $\\epsilon$-Greedy Q-value selection  \n",
    "\n",
    "The code in the cell below preforms $\\epsilon-$greedy state transition selection of the next action. This algorithm is one of the critical differences between the DQN algorithm and ordinary Q-learning. The $\\epsilon-$greedy maximum Q value is chosen from the target model. The action value is predicted with the online model. The important steps of this algorithm are:\n",
    "1. An $\\epsilon$-greedy approach is used to select actions, using the **online action values** from the **target model**. \n",
    "2. The Q values are then predicted \n",
    "3. The 1-step bootstrapped reward estimate of the target action values,  $\\hat{q}(S_{t}, A_{t}, w_{t-1})$, are then used to train the neural network model. \n",
    "\n",
    "Some additional details of the algorithm can be learned by reading the code comments. Execute this code to run the simple test case. "
   ]
  },
  {
   "cell_type": "code",
   "execution_count": 4,
   "metadata": {},
   "outputs": [
    {
     "data": {
      "text/plain": [
       "(0.1, 0.1, 0.2, 0.07, -1.0, False, -0.9099999986588955, 0.11804109)"
      ]
     },
     "execution_count": 4,
     "metadata": {},
     "output_type": "execute_result"
    }
   ],
   "source": [
    "def compute_Q_values(x,x_dot,x_prime,x_dot_prime,action,actions,gamma,epsilon,online_model,target_model):\n",
    "    '''This function representst the core of the DQN algorithm. The function \n",
    "    generates a sample state transiton and associtated Q values using the \n",
    "    current models. The next state and action, along with an indicator if done \n",
    "    are returned.'''\n",
    "    Q_target = []\n",
    "    ## Iterate over all actions to find target Q values\n",
    "    for a in actions:\n",
    "        Q_target.append(np.asarray([[x_prime,x_dot_prime,a]]).astype('float32')[0][0])\n",
    "    ## Find the next action using epsilon greedy algorithm\n",
    "    if(nr.uniform() <= epsilon): # take random aciton\n",
    "        max_index = nr.choice(range(len(actions)), replace = True)\n",
    "    else: # take greedy action with max Q\n",
    "        max_index = np.argmax(Q_target)\n",
    "    ## Get the next action from the successor state\n",
    "    action_prime = actions[max_index]\n",
    "    \n",
    "    ## Find Q from the online model for the the action selected \n",
    "    Q_online = online_model.predict(np.asarray([[x,x_dot,a]]).astype('float32'))[0][0]\n",
    "    \n",
    "    ## Update x and x_dot\n",
    "    x = x_prime\n",
    "    x_dot = x_dot_prime\n",
    "    \n",
    "    ## Find the next state, reward and if done\n",
    "    x_prime, x_dot_prime, done, reward = sim_car(x, x_dot, action_prime)\n",
    "    ## update the Q target, for cases of terminal or not\n",
    "    if(done): \n",
    "        Q_out = reward\n",
    "    else:\n",
    "        Q_out = reward + gamma * Q_target[max_index]\n",
    "    return(x, x_dot, x_prime, x_dot_prime, action_prime, done, Q_out, Q_online) #, actions[max_index], max_index)\n",
    "\n",
    "## Simple test of the funciton using a random model for both online and target\n",
    "actions = [-1.0,0.0,1.0]        \n",
    "compute_Q_values(0.1,0.0,0.1,0.1,0.0,actions,0.9,0.05,function_approx,function_approx)    "
   ]
  },
  {
   "cell_type": "markdown",
   "metadata": {},
   "source": [
    "### Copy online model\n",
    "\n",
    "The DQN model requires both an online model to compute action values and update parameters, and a target model to evaluate performance. Execute the code in the cell below to instantiate a function to create the target model with the current weights of the online model.   "
   ]
  },
  {
   "cell_type": "code",
   "execution_count": 5,
   "metadata": {},
   "outputs": [],
   "source": [
    "def copy_model(online_model, target_model):\n",
    "  target_model.set_weights(online_model.get_weights())  "
   ]
  },
  {
   "cell_type": "markdown",
   "metadata": {},
   "source": [
    "### Create replay buffer   \n",
    "\n",
    "Deep neural networks are trained using stochastic gradient descent (SGD). SGD uses mini-batch samples to compute gradient estimates. The mini-batch contains a small number of samples. However, RL agents receive reward and state information for single time steps, in effect, a single sample. To deal with the mismatch between the nature of the data and the requirement to create mini-batches, the DQN algorithm uses a **replay buffer**. The replay buffer is a circular buffer, used to store recent state, action, and reward information which can be mini-batch sampled. \n",
    "\n",
    "Execute the code in the cell below to instantiate the replay_buffer function and examine the results of the test case.  "
   ]
  },
  {
   "cell_type": "code",
   "execution_count": 6,
   "metadata": {},
   "outputs": [
    {
     "name": "stdout",
     "output_type": "stream",
     "text": [
      "[[1. 1.]\n",
      " [0. 0.]\n",
      " [0. 0.]\n",
      " [0. 0.]]\n",
      "\n",
      "[[1. 1.]\n",
      " [1. 1.]\n",
      " [0. 0.]\n",
      " [0. 0.]\n",
      " [0. 0.]]\n",
      "\n",
      "[[1. 1.]\n",
      " [1. 1.]\n",
      " [1. 1.]\n",
      " [0. 0.]\n",
      " [0. 0.]]\n",
      "\n",
      "[[1. 1.]\n",
      " [1. 1.]\n",
      " [1. 1.]\n",
      " [1. 1.]\n",
      " [0. 0.]]\n",
      "\n",
      "[[1. 1.]\n",
      " [1. 1.]\n",
      " [1. 1.]\n",
      " [1. 1.]\n",
      " [1. 1.]]\n",
      "\n",
      "[[1. 1.]\n",
      " [1. 1.]\n",
      " [1. 1.]\n",
      " [1. 1.]\n",
      " [1. 1.]]\n",
      "\n"
     ]
    }
   ],
   "source": [
    "def replay_buffer(new_cases, buffer, n_cases = 128*64): # n_cases = 4096):\n",
    "    \"\"\"Function manages replay buffer as a numpy array with\n",
    "    maximum size of n_cases. Newest data is retained once\n",
    "    more than n_cases available\"\"\"\n",
    "    if(buffer.shape[0] <= n_cases): \n",
    "        ## still growing buffer so append old cases to new\n",
    "        out = np.append(new_cases, buffer, axis = 0)\n",
    "    else: ## Delete some rows and add the new at the top\n",
    "        ## Create a mask for the rows we wish to keep or delete\n",
    "        del_rows = n_cases - new_cases.shape[0] + 1\n",
    "        mask = np.ones(buffer.shape[0], dtype=bool) \n",
    "        mask[del_rows:] = False\n",
    "        ## Append old cases to new \n",
    "        out = np.append(new_cases, buffer[mask,:], axis = 0)\n",
    "    return(out)\n",
    "\n",
    "b = np.zeros((3,2))\n",
    "add = np.ones((1,2))\n",
    "for _ in range(6):\n",
    "    b = replay_buffer(add, b, 4)\n",
    "    print(b)\n",
    "    print('')\n",
    "    "
   ]
  },
  {
   "cell_type": "markdown",
   "metadata": {},
   "source": [
    "The replay buffer must be fill with samples. The newest samples must be inserted into the buffer and the oldest removed, once the buffer is filled. The function defined in the cell below does just this. Execute this function to instantiate the function and examine the results of the test case.   "
   ]
  },
  {
   "cell_type": "code",
   "execution_count": 7,
   "metadata": {
    "scrolled": false
   },
   "outputs": [
    {
     "data": {
      "text/plain": [
       "(array([[ 4.74360250e-01,  5.40304735e-02,  1.16627246e-01,\n",
       "          1.00000000e+02],\n",
       "        [ 4.18554923e-01,  5.58053274e-02,  1.15475141e-01,\n",
       "         -6.23300561e-01],\n",
       "        [ 3.60575080e-01,  5.79798426e-02,  1.14239886e-01,\n",
       "         -6.75482428e-01],\n",
       "        [ 3.00041456e-01,  6.05336239e-02,  1.12920366e-01,\n",
       "         -7.29962680e-01],\n",
       "        [ 2.36611659e-01,  6.34297975e-02,  1.11518607e-01,\n",
       "         -7.87049502e-01],\n",
       "        [ 1.70000000e-01,  6.66116588e-02,  1.10040426e-01,\n",
       "         -8.46999998e-01],\n",
       "        [ 1.00000000e-01,  7.00000000e-02,  1.05053172e-01,\n",
       "         -9.09999999e-01],\n",
       "        [ 0.00000000e+00,  1.00000000e-01,  1.16482690e-01,\n",
       "         -1.00000000e+00],\n",
       "        [ 0.00000000e+00,  0.00000000e+00,  0.00000000e+00,\n",
       "          0.00000000e+00]]),\n",
       " 0.4743602501619207,\n",
       " 0.05403047349918464,\n",
       " 0.5,\n",
       " 0.05266252606809764,\n",
       " -1.0)"
      ]
     },
     "execution_count": 7,
     "metadata": {},
     "output_type": "execute_result"
    }
   ],
   "source": [
    "def sample_time_steps(x, x_dot, x_prime, x_dot_prime, action, online_model, target_model, replayBuffer, gamma, epsilon, actions, n_samples = 128):\n",
    "    '''Function to sample a number of episode using the online model.\n",
    "    The samples are placed in the replay buffer'''  \n",
    "#    for _ in range(n_episodes):\n",
    "    done = False\n",
    "    i = 0\n",
    "    ## Compute the required number of samples or quite when terminal\n",
    "    while((i < n_samples) and (not done)):\n",
    "        ## Compute the values for the time step\n",
    "        x, x_dot, x_prime, x_dot_prime, action, done, Q_target, Q_online = compute_Q_values(x,x_dot,x_prime,x_dot_prime,action,actions,gamma,epsilon,online_model,target_model) \n",
    "        ## Add new values to the replay buffer\n",
    "        newCase = np.asarray([x,x_dot,Q_online,Q_target]).astype(float).reshape((1,4))\n",
    "        replayBuffer = replay_buffer(newCase, replayBuffer)\n",
    "        ## Increment the count of samples\n",
    "        i += 1\n",
    "    return replayBuffer, x, x_dot, x_prime, x_dot_prime, action\n",
    "\n",
    "## Very simple purely operational test case for function\n",
    "## first initialize a numpy buffer array with\n",
    "## elements, x, x_dot, Q_online, Q_target  \n",
    "x_knot = 0.0\n",
    "x_dot_knot = 0.0\n",
    "test_buffer = np.array([x_knot,x_dot_knot,0.0,0.0]).reshape((1,4))\n",
    "actions = [-1.0,0.0,1.0]  \n",
    "sample_time_steps(x_knot, x_dot_knot, 0.0, 0.1, 1.0, function_approx, function_approx, test_buffer, 0.9, 0.05, actions, n_samples = 16)"
   ]
  },
  {
   "cell_type": "markdown",
   "metadata": {},
   "source": [
    "### The DQN Algorithm  \n",
    "\n",
    "With the required functions defined, it is now time to define code for the DQN algorithm. The work in the `DQN` function is done in the for loop:   \n",
    "1. An action is taken at a time step and the replay buffer updated using the action values from the online model using action determined by the target model.   \n",
    "2. The online model is trained for `n_cycles` epochs.   \n",
    "3. Every `target_update_cycles` the target model is updated with the weights of the online model. \n",
    "\n",
    "> **Exercise 10-2-1:** The code for the DQN function is shown below. You must create the missing line of code for training the `online_model` using the Keras `fit` method. Keep in mind that car state (the features) are in the first 3 columns of the replay buffer and the fourth column contains the label, the action value.  \n",
    "> Execute the code in the cell below to train the target model."
   ]
  },
  {
   "cell_type": "code",
   "execution_count": 8,
   "metadata": {
    "scrolled": false
   },
   "outputs": [
    {
     "name": "stderr",
     "output_type": "stream",
     "text": [
      "C:\\Users\\rodol\\Anaconda3\\lib\\site-packages\\numpy\\core\\_asarray.py:102: VisibleDeprecationWarning: Creating an ndarray from ragged nested sequences (which is a list-or-tuple of lists-or-tuples-or ndarrays with different lengths or shapes) is deprecated. If you meant to do this, you must specify 'dtype=object' when creating the ndarray.\n",
      "  return array(a, dtype, copy=False, order=order)\n"
     ]
    },
    {
     "name": "stdout",
     "output_type": "stream",
     "text": [
      "1/1 [==============================] - 1s 810ms/step - loss: 5006.9282 - mae: 50.0000\n",
      "1/1 [==============================] - 0s 4ms/step - loss: 563.5035 - mae: 6.6227\n",
      "2/2 [==============================] - 0s 4ms/step - loss: 302.1654 - mae: 4.0976\n",
      "2/2 [==============================] - 0s 4ms/step - loss: 208.5604 - mae: 3.4075\n",
      "3/3 [==============================] - 0s 2ms/step - loss: 160.0851 - mae: 3.0072\n",
      "3/3 [==============================] - 0s 2ms/step - loss: 267.8094 - mae: 3.9709\n",
      "3/3 [==============================] - 0s 2ms/step - loss: 222.5161 - mae: 3.4457\n",
      "4/4 [==============================] - 0s 2ms/step - loss: 190.7104 - mae: 3.1597\n",
      "4/4 [==============================] - 0s 1ms/step - loss: 166.9767 - mae: 2.9046\n",
      "5/5 [==============================] - 0s 1ms/step - loss: 148.6648 - mae: 2.6983\n",
      "5/5 [==============================] - 0s 1ms/step - loss: 133.5779 - mae: 2.5326\n",
      "6/6 [==============================] - 0s 2ms/step - loss: 121.4704 - mae: 2.3353\n",
      "6/6 [==============================] - 0s 2ms/step - loss: 111.3316 - mae: 2.2297\n",
      "7/7 [==============================] - 0s 2ms/step - loss: 102.6065 - mae: 2.0611\n",
      "7/7 [==============================] - 0s 2ms/step - loss: 95.3360 - mae: 1.9190\n",
      "8/8 [==============================] - 0s 2ms/step - loss: 137.1464 - mae: 2.2549\n",
      "8/8 [==============================] - 0s 1ms/step - loss: 128.2606 - mae: 2.1209\n",
      "9/9 [==============================] - 0s 1ms/step - loss: 120.0294 - mae: 1.9817\n",
      "9/9 [==============================] - 0s 1ms/step - loss: 112.8912 - mae: 1.9004\n",
      "10/10 [==============================] - 0s 1ms/step - loss: 106.6247 - mae: 1.8179\n",
      "10/10 [==============================] - 0s 1ms/step - loss: 100.8898 - mae: 1.7983\n",
      "11/11 [==============================] - 0s 2ms/step - loss: 95.7755 - mae: 1.7174\n",
      "11/11 [==============================] - 0s 1ms/step - loss: 91.3146 - mae: 1.6609\n",
      "11/11 [==============================] - 0s 1ms/step - loss: 120.4649 - mae: 1.9815\n",
      "12/12 [==============================] - 0s 1ms/step - loss: 114.7719 - mae: 1.9083\n",
      "12/12 [==============================] - 0s 1ms/step - loss: 110.1647 - mae: 1.8974\n",
      "13/13 [==============================] - 0s 1ms/step - loss: 105.3888 - mae: 1.8319\n",
      "13/13 [==============================] - 0s 1ms/step - loss: 101.1031 - mae: 1.7690\n",
      "14/14 [==============================] - 0s 1ms/step - loss: 97.2423 - mae: 1.7496\n",
      "14/14 [==============================] - 0s 1ms/step - loss: 93.6642 - mae: 1.6898\n",
      "15/15 [==============================] - 0s 1ms/step - loss: 90.3708 - mae: 1.6524\n",
      "15/15 [==============================] - 0s 1ms/step - loss: 87.2172 - mae: 1.6188\n",
      "16/16 [==============================] - 0s 1ms/step - loss: 84.1976 - mae: 1.5535\n",
      "16/16 [==============================] - 0s 1ms/step - loss: 81.7727 - mae: 1.5238\n",
      "16/16 [==============================] - 0s 1ms/step - loss: 99.9625 - mae: 1.6689\n",
      "17/17 [==============================] - 0s 1ms/step - loss: 97.1325 - mae: 1.6716\n",
      "17/17 [==============================] - 0s 1ms/step - loss: 94.0549 - mae: 1.5948\n",
      "18/18 [==============================] - 0s 1ms/step - loss: 91.3366 - mae: 1.5728\n",
      "18/18 [==============================] - 0s 1ms/step - loss: 108.9656 - mae: 1.7634\n",
      "18/18 [==============================] - 0s 1ms/step - loss: 105.8085 - mae: 1.7463\n",
      "19/19 [==============================] - 0s 992us/step - loss: 102.8931 - mae: 1.7091\n",
      "19/19 [==============================] - 0s 1ms/step - loss: 100.2589 - mae: 1.7007\n",
      "20/20 [==============================] - 0s 1ms/step - loss: 97.5616 - mae: 1.6633\n",
      "20/20 [==============================] - 0s 1ms/step - loss: 95.1811 - mae: 1.6409\n",
      "21/21 [==============================] - 0s 1ms/step - loss: 92.9219 - mae: 1.6122\n",
      "21/21 [==============================] - 0s 1ms/step - loss: 90.6586 - mae: 1.5609\n",
      "21/21 [==============================] - 0s 1ms/step - loss: 105.3518 - mae: 1.7672\n",
      "22/22 [==============================] - 0s 1ms/step - loss: 103.2411 - mae: 1.7274\n",
      "22/22 [==============================] - 0s 1ms/step - loss: 115.4537 - mae: 1.8092\n",
      "23/23 [==============================] - 0s 1ms/step - loss: 112.9843 - mae: 1.8998\n",
      "23/23 [==============================] - 0s 1ms/step - loss: 110.6258 - mae: 1.8553\n",
      "24/24 [==============================] - 0s 2ms/step - loss: 108.1851 - mae: 1.8270\n",
      "24/24 [==============================] - 0s 844us/step - loss: 105.8472 - mae: 1.7881\n",
      "25/25 [==============================] - 0s 1ms/step - loss: 103.7034 - mae: 1.8009\n",
      "25/25 [==============================] - 0s 1ms/step - loss: 101.6349 - mae: 1.7529\n",
      "26/26 [==============================] - 0s 1ms/step - loss: 99.5064 - mae: 1.7429\n",
      "26/26 [==============================] - 0s 801us/step - loss: 97.5147 - mae: 1.6930\n",
      "27/27 [==============================] - 0s 982us/step - loss: 95.8773 - mae: 1.7230\n",
      "27/27 [==============================] - 0s 1ms/step - loss: 93.9669 - mae: 1.6619\n",
      "28/28 [==============================] - 0s 1ms/step - loss: 92.2791 - mae: 1.6626\n",
      "28/28 [==============================] - 0s 823us/step - loss: 90.6434 - mae: 1.5885\n",
      "29/29 [==============================] - 0s 990us/step - loss: 89.0094 - mae: 1.5825\n",
      "29/29 [==============================] - 0s 865us/step - loss: 87.4702 - mae: 1.5744\n",
      "30/30 [==============================] - 0s 1ms/step - loss: 86.1968 - mae: 1.5570\n"
     ]
    }
   ],
   "source": [
    "def DQN(n_cycles=64, samples_step=16, gamma = 0.99, epsilon = 0.05, \n",
    "               target_update_cycles = 8, batch_size = 32, x_knot = 0.0, x_dot_knot = 0.0,\n",
    "               a_knot_prime = 0.0, x_dot_knot_prime = 0.0, action_knot = 0.0,\n",
    "               train_epochs = 1):\n",
    "    ## Possible actions\n",
    "    actions = [-1.0,0.0,1.0]\n",
    "    \n",
    "    ## Define the Keras models\n",
    "    target_model = DL_model()\n",
    "    online_model = DL_model()\n",
    "    \n",
    "    ## Initialize replay buffer\n",
    "    replayBuffer = np.asarray([x_knot,x_dot_knot,0.0,0.0]).astype(float).reshape((1,4))\n",
    "    \n",
    "    ## Loop over the training cycles\n",
    "    T = 0  # Cycle counter\n",
    "    for _ in range(n_cycles):\n",
    "        \n",
    "        ## Sample the environment, with random start on state\n",
    "        done = False\n",
    "        x = nr.uniform(-1.2,0.5)\n",
    "        x_dot = nr.uniform(-0.07,0.07)\n",
    "        action = nr.choice([-1.0,0.0,1], 1)\n",
    "        x_prime, x_dot_prime, _, _ = sim_car(x, x_dot, action)\n",
    "        replayBuffer, x, x_dot, x_prime, x_dot_prime, action = sample_time_steps(x, x_dot, x_prime, x_dot_prime, action, online_model, target_model, replayBuffer, gamma, epsilon, actions, n_samples = samples_step)\n",
    "        \n",
    "        ## Train the online model using the samples from the replay buffer\n",
    "        ##### Your code goes below  ################\n",
    "        online_model.fit(replayBuffer[:,:3], replayBuffer[:,3], epochs = train_epochs, batch_size = batch_size)\n",
    "\n",
    "        ## Update target model if enough cycles\n",
    "        if((T % target_update_cycles) == 0): target_model.set_weights(online_model.get_weights())  \n",
    "        \n",
    "        ## Update counter\n",
    "        T += 1\n",
    "    \n",
    "    ## Update the target model weights and return\n",
    "    target_model.set_weights(online_model.get_weights())\n",
    "    return(target_model)  \n",
    "\n",
    "nr.seed(1235)\n",
    "DQNModel = DQN()  "
   ]
  },
  {
   "cell_type": "markdown",
   "metadata": {},
   "source": [
    "The question now is, how well does this policy work? The code in the cell below applies the policy over a number of time steps for the purpose of evaluation. Execute this code to instantiate the `policy_time_step` function and examine the results of the simple test case.    "
   ]
  },
  {
   "cell_type": "code",
   "execution_count": 9,
   "metadata": {},
   "outputs": [
    {
     "name": "stdout",
     "output_type": "stream",
     "text": [
      "0.5 0.07 0.0 True\n",
      "0.5 0.06982315699583075 0.0 True\n",
      "0.5 0.06964631399166149 0.0 True\n",
      "0.5 0.06946947098749223 0.0 True\n",
      "0.5 0.06929262798332297 0.0 True\n",
      "0.5 0.06911578497915372 0.0 True\n",
      "0.5 0.06893894197498446 0.0 True\n",
      "0.5 0.0687620989708152 0.0 True\n",
      "0.5 0.06858525596664594 0.0 True\n",
      "0.5 0.06840841296247668 0.0 True\n"
     ]
    }
   ],
   "source": [
    "def policy_time_step(x, x_dot, target_model, actions):\n",
    "    '''Function uses a greedy policy to take a time step with the greatest action value\n",
    "    as predicted by the target model. The function also returns if the episode is done''' \n",
    "    ## Find the action with the largest prediced value for the positon and velocity\n",
    "    Q_target = []\n",
    "    ## Iterate over all actions to find Q values\n",
    "    for a in actions:\n",
    "        Q_target.append(target_model.predict(np.asarray([[x,x_dot,a]])))\n",
    "    ## Find the action with max Q\n",
    "    max_index = np.argmax(Q_target)\n",
    "    ## Finally compute the state following the action with the highest value\n",
    "    x, x_dot, done, reward = sim_car(x, x_dot, actions[max_index])\n",
    "    return x, x_dot, actions[max_index], done\n",
    "\n",
    "## Simple test case for the function\n",
    "x = 0.0\n",
    "x_dot = 1.0\n",
    "for _ in (range(10)):\n",
    "    x, x_dot, action, done = policy_time_step(x,x_dot,DQNModel,actions)\n",
    "    print(x, x_dot, action, done)"
   ]
  },
  {
   "cell_type": "markdown",
   "metadata": {},
   "source": [
    "To view the time-series of position, velocity, and acceleration under the policy, execute the code in the cell below.  \n",
    "\n",
    "> **Note:** Here, we evaluate policy using a single episode. A more complete evaluation would require multiple episodes starting from randomly chosen positions.  "
   ]
  },
  {
   "cell_type": "code",
   "execution_count": 10,
   "metadata": {
    "scrolled": false
   },
   "outputs": [
    {
     "name": "stdout",
     "output_type": "stream",
     "text": [
      "Starting positon = 0.1\n"
     ]
    },
    {
     "data": {
      "image/png": "[encoded data removed]",
      "text/plain": [
       "<Figure size 432x432 with 3 Axes>"
      ]
     },
     "metadata": {
      "needs_background": "light"
     },
     "output_type": "display_data"
    }
   ],
   "source": [
    "def plot_car_a(x, x_dot, a):\n",
    "    ## Plot car position\n",
    "    fig = plt.figure(figsize = (6,6))\n",
    "    ax1 = fig.add_subplot(311)    \n",
    "    ax1.plot(x)\n",
    "    ax1.set_ylabel('Positon of car')\n",
    "    \n",
    "    ## PLot car velocity\n",
    "    ax2 = fig.add_subplot(312)  \n",
    "    ax2.plot(x_dot)\n",
    "    ax2.set_ylabel('Velocity of car')\n",
    "    \n",
    "    ## PLot acceleration\n",
    "    ax2 = fig.add_subplot(313)  \n",
    "    ax2.plot(a)\n",
    "    ax2.set_ylabel('Acceleration of car')\n",
    "    ax2.set_xlabel('Time')\n",
    "\n",
    "def apply_policy(model, a=[0.0], x_dot=[-0.0], x=[0.1]):        \n",
    "    print('Starting positon = ' + str(x[0]))\n",
    "    ## Iterate until termination\n",
    "    i = 0    \n",
    "    x_temp = 0.0\n",
    "    while(x_temp < 0.5):\n",
    "    #for i in range(300):    \n",
    "        ## Update the position and velocity    \n",
    "        x_temp, x_dot_temp, action, done = policy_time_step(x[i],x_dot[i],model,actions)\n",
    "        x.append(x_temp)\n",
    "        x_dot.append(x_dot_temp)\n",
    "        a.append(action)\n",
    "        i+=1\n",
    "    return x, x_dot, a    \n",
    "\n",
    "x, x_dot, a = apply_policy(DQNModel)         \n",
    "plot_car_a(x,x_dot,a)         "
   ]
  },
  {
   "cell_type": "markdown",
   "metadata": {},
   "source": [
    "## Double DQN Algorithm\n",
    "\n",
    "The bias inherent in Q-learning is well known. A recent advance intended to address this bias is the **Double DQN algorithm**.  \n",
    "\n",
    "The approach of Double DQN is simple. The algorithm uses **two online models**. Each model periodically acts as the target model while the other model is updated. After some number of epochs, the roles are reversed. Samples created using both models in the two roles are added to the replay buffer. Alternating the roles of the models eliminates the bias. \n",
    "\n",
    "> **Exercise 10-2-2:** Code for the double DQN algorithm is shown in the cell below. There are 4 missing lines of code, 2 each for each of the models. Complete these lines of code, where for each model:\n",
    "> 1. The `sample_time_steps` function is called with the two models. First using `model_1` as the online model and `model_2` as the target model and then the opposite for the other 2 missing lines of code.     \n",
    "> 2. The online model (which ever it is) is fit using the Keras `fit` method and data from the replay buffer.  \n",
    "> Execute your code.              "
   ]
  },
  {
   "cell_type": "code",
   "execution_count": 11,
   "metadata": {
    "scrolled": false
   },
   "outputs": [
    {
     "name": "stdout",
     "output_type": "stream",
     "text": [
      "1/1 [==============================] - 0s 400ms/step - loss: 10.2301 - mae: 1.7378\n",
      "2/2 [==============================] - 1s 4ms/step - loss: 9.2645 - mae: 1.4040\n",
      "2/2 [==============================] - 0s 2ms/step - loss: 9.6186 - mae: 1.6891\n",
      "3/3 [==============================] - 0s 2ms/step - loss: 8.6943 - mae: 1.3759\n",
      "3/3 [==============================] - 0s 1ms/step - loss: 8.7640 - mae: 1.5491\n",
      "4/4 [==============================] - 0s 2ms/step - loss: 7.6215 - mae: 1.1317\n",
      "4/4 [==============================] - 0s 2ms/step - loss: 8.0730 - mae: 1.4521\n",
      "5/5 [==============================] - 0s 2ms/step - loss: 7.0240 - mae: 1.0203\n",
      "5/5 [==============================] - 0s 2ms/step - loss: 7.3012 - mae: 1.3272\n",
      "6/6 [==============================] - 0s 2ms/step - loss: 6.5403 - mae: 0.9734\n",
      "6/6 [==============================] - 0s 2ms/step - loss: 6.7859 - mae: 1.3033\n",
      "6/6 [==============================] - 0s 2ms/step - loss: 60.3906 - mae: 1.4104\n",
      "7/7 [==============================] - 0s 2ms/step - loss: 56.3288 - mae: 1.7059\n",
      "7/7 [==============================] - 0s 1ms/step - loss: 51.6846 - mae: 1.2427\n",
      "8/8 [==============================] - 0s 1ms/step - loss: 48.7831 - mae: 1.5300\n",
      "8/8 [==============================] - 0s 1ms/step - loss: 45.2718 - mae: 1.1221\n",
      "9/9 [==============================] - 0s 2ms/step - loss: 42.8448 - mae: 1.3698\n",
      "9/9 [==============================] - 0s 2ms/step - loss: 40.3380 - mae: 1.0583\n",
      "10/10 [==============================] - 0s 2ms/step - loss: 38.1491 - mae: 1.2250\n",
      "10/10 [==============================] - 0s 1ms/step - loss: 36.3743 - mae: 1.0277\n",
      "11/11 [==============================] - 0s 2ms/step - loss: 34.5405 - mae: 1.0942\n",
      "11/11 [==============================] - 0s 1ms/step - loss: 32.7830 - mae: 0.9747\n",
      "12/12 [==============================] - 0s 1ms/step - loss: 31.0299 - mae: 0.9361\n",
      "12/12 [==============================] - 0s 2ms/step - loss: 29.9054 - mae: 0.8546\n",
      "13/13 [==============================] - 0s 1ms/step - loss: 28.4425 - mae: 0.8248\n",
      "13/13 [==============================] - 0s 1ms/step - loss: 27.4034 - mae: 0.8083\n",
      "14/14 [==============================] - 0s 1ms/step - loss: 26.1056 - mae: 0.8036\n",
      "14/14 [==============================] - 0s 1ms/step - loss: 25.1112 - mae: 0.7408\n",
      "15/15 [==============================] - 0s 1ms/step - loss: 23.8411 - mae: 0.7272\n",
      "15/15 [==============================] - 0s 1ms/step - loss: 23.2386 - mae: 0.6956\n",
      "16/16 [==============================] - 0s 917us/step - loss: 22.0214 - mae: 0.7013\n",
      "16/16 [==============================] - 0s 1ms/step - loss: 21.5156 - mae: 0.6742\n",
      "17/17 [==============================] - 0s 1ms/step - loss: 40.8113 - mae: 0.8874\n",
      "17/17 [==============================] - 0s 1ms/step - loss: 59.8774 - mae: 1.0160\n",
      "17/17 [==============================] - 0s 1ms/step - loss: 58.3725 - mae: 1.0481\n",
      "18/18 [==============================] - 0s 1ms/step - loss: 56.3044 - mae: 0.9796\n",
      "18/18 [==============================] - 0s 2ms/step - loss: 54.8343 - mae: 1.0214\n",
      "19/19 [==============================] - 0s 2ms/step - loss: 53.0106 - mae: 0.9540\n",
      "19/19 [==============================] - 0s 2ms/step - loss: 51.7889 - mae: 1.0114\n",
      "20/20 [==============================] - 0s 1ms/step - loss: 50.3587 - mae: 0.9142\n",
      "20/20 [==============================] - 0s 1ms/step - loss: 49.0623 - mae: 0.9818\n",
      "21/21 [==============================] - 0s 1ms/step - loss: 47.7851 - mae: 0.8750\n",
      "21/21 [==============================] - 0s 2ms/step - loss: 46.8004 - mae: 0.9421\n",
      "22/22 [==============================] - 0s 1ms/step - loss: 45.5606 - mae: 0.8599\n",
      "22/22 [==============================] - 0s 1ms/step - loss: 44.6402 - mae: 0.9298\n",
      "23/23 [==============================] - 0s 1ms/step - loss: 43.4340 - mae: 0.8238\n",
      "23/23 [==============================] - 0s 1ms/step - loss: 42.7510 - mae: 0.8836\n",
      "24/24 [==============================] - 0s 1ms/step - loss: 41.5556 - mae: 0.7985\n",
      "24/24 [==============================] - 0s 1ms/step - loss: 40.7835 - mae: 0.8614\n",
      "25/25 [==============================] - 0s 1ms/step - loss: 39.7873 - mae: 0.7924\n",
      "25/25 [==============================] - 0s 1ms/step - loss: 39.1060 - mae: 0.8204\n",
      "25/25 [==============================] - 0s 2ms/step - loss: 51.8774 - mae: 0.8883\n",
      "26/26 [==============================] - 0s 1ms/step - loss: 51.2455 - mae: 0.9396\n",
      "26/26 [==============================] - 0s 2ms/step - loss: 49.8314 - mae: 0.8899\n",
      "27/27 [==============================] - 0s 1ms/step - loss: 49.1411 - mae: 0.9197\n",
      "27/27 [==============================] - 0s 1ms/step - loss: 47.9225 - mae: 0.8780\n",
      "28/28 [==============================] - 0s 1ms/step - loss: 47.1791 - mae: 0.9379\n",
      "28/28 [==============================] - 0s 976us/step - loss: 46.1515 - mae: 0.8356\n",
      "28/28 [==============================] - 0s 1ms/step - loss: 57.3947 - mae: 1.0315\n",
      "29/29 [==============================] - 0s 924us/step - loss: 56.2652 - mae: 0.9495\n",
      "29/29 [==============================] - 0s 1ms/step - loss: 55.3607 - mae: 1.0018\n",
      "30/30 [==============================] - 0s 1ms/step - loss: 54.3299 - mae: 0.9197\n",
      "30/30 [==============================] - 0s 1ms/step - loss: 53.5816 - mae: 0.9577\n",
      "31/31 [==============================] - 0s 1ms/step - loss: 52.5489 - mae: 0.9281\n"
     ]
    }
   ],
   "source": [
    "def double_DQN(n_cycles=64, samples_step=16, gamma = 0.95, epsilon = 0.001, \n",
    "               batch_size = 32, x_knot = 0.0, x_dot_knot = 0.0,\n",
    "               train_epochs = 1):\n",
    "    ## Possible actions\n",
    "    actions = [-1.0,0.0,1.0]\n",
    "    \n",
    "    ## Define the Keras models\n",
    "    model_1 = DL_model()\n",
    "    model_2 = DL_model()\n",
    "    \n",
    "    ## Initialize replay buffer\n",
    "    replayBuffer = np.asarray([x_knot,x_dot_knot,0.0,0.0]).astype('float32').reshape((1,4))\n",
    "\n",
    "    ## Loop over the training cycles\n",
    "    T = 0  # Cycle counter\n",
    "    for _ in range(n_cycles):\n",
    "        \n",
    "        ## Prepare to sample the environment, with random start on state\n",
    "        x = nr.uniform(-1.2,0.5)\n",
    "        x_dot = nr.uniform(-0.07,0.07)\n",
    "        action = nr.choice([-1.0,0.0,1], 1)\n",
    "        x_prime, x_dot_prime, done, reward = sim_car(x, x_dot, action)\n",
    "    \n",
    "        ## Determine which model to treat as online and target by random choice\n",
    "        if((T % 2) == 0):\n",
    "            ## In this case the one model is the online model and the other the target model \n",
    "            ## Sample and then train the selected online model using the samples\n",
    "            ##### Your code goes below #######  \n",
    "            replayBuffer, x, x_dot, x_prime, x_dot_prime, action = sample_time_steps(x, x_dot, x_prime, x_dot_prime, action, model_1, model_2, replayBuffer, gamma, epsilon, actions, n_samples = samples_step)      \n",
    "            model_1.fit(replayBuffer[:,:3], replayBuffer[:,3], epochs = train_epochs, batch_size = batch_size)\n",
    "            \n",
    "        else:\n",
    "            ## In this case the role of online and target model are reversed \n",
    "            ## Sample and then train the selected online model using the samples\n",
    "            ##### Your code goes below ####### \n",
    "            replayBuffer, x, x_dot, x_prime, x_dot_prime, action = sample_time_steps(x, x_dot, x_prime, x_dot_prime, action, model_2, model_1, replayBuffer, gamma, epsilon, actions, n_samples = samples_step)      \n",
    "            model_2.fit(replayBuffer[:,:3], replayBuffer[:,3], epochs = train_epochs, batch_size = batch_size)             \n",
    "            \n",
    "        ## Update counter\n",
    "        T += 1\n",
    "    \n",
    "    ## Return one of the models\n",
    "    return(model_1)  \n",
    "\n",
    "nr.seed(5678)\n",
    "double_DQNModel = double_DQN()  "
   ]
  },
  {
   "cell_type": "markdown",
   "metadata": {},
   "source": [
    "To visualize the results of the resulting policy, execute the code in the cell below."
   ]
  },
  {
   "cell_type": "code",
   "execution_count": 12,
   "metadata": {
    "scrolled": false
   },
   "outputs": [
    {
     "name": "stdout",
     "output_type": "stream",
     "text": [
      "Starting positon = 0.1\n"
     ]
    },
    {
     "data": {
      "image/png": "[encoded data removed]",
      "text/plain": [
       "<Figure size 432x432 with 3 Axes>"
      ]
     },
     "metadata": {
      "needs_background": "light"
     },
     "output_type": "display_data"
    }
   ],
   "source": [
    "x, x_dot, a = apply_policy(double_DQNModel, x=[0.1])            \n",
    "plot_car_a(x,x_dot,a)         "
   ]
  },
  {
   "cell_type": "markdown",
   "metadata": {},
   "source": [
    "> **Exercise 10-2-3:** Compare the results of applying the policies created with the DQN model and the Double DQN model. Provide short answers the following questions: \n",
    "> 1. Is there any significant difference in the number of time steps required for the car to reach the goal between the two policies?  \n",
    "> 2. Given the differences in action taken between the two policies, which model seems to have converged to a better policy, in terms of the policy being more dynamic? Explain your answer.  "
   ]
  },
  {
   "cell_type": "markdown",
   "metadata": {},
   "source": [
    "> **Answers:**  \n",
    "> 1. For the DQN model we see that the goal was reached in 175 steps. For the Double DQN model it seems that the goal was reached at 175 steps but looking at the velocity and acceleration plot we can notice that they extend until 350 steps (double the number of the DQN model).      \n",
    "> 2. In this case is hard to get to a conclusion as both models have similar policies which in both cases the policy is to accelerate when getting up and stop accelerating halfway and then halfway down accelerate again. But it seems that the DDQN provides a way to react faster to changes and therefore being more dynamic."
   ]
  },
  {
   "cell_type": "markdown",
   "metadata": {},
   "source": [
    "## Prioritized Replay\n",
    "\n",
    "The samples contained in the replay buffer, for the DQN and double DQN algorithms described above, uses a **first in and first out** algorithm. Samples are cleared from the buffer based on age alone. \n",
    "\n",
    "Is there a better way to manage the replay buffer to improve the learning rate? There is, an algorithm know as **prioritized replay**. The basic idea is to prioritize the sampling of the replay buffer based on the value of the sample in reducing the error in learning the action-value function, $\\hat{Q}(s_t, a_t, \\mathbf{w}_t)$. This approach is know as **importance sampling**. \n",
    "\n",
    "A possible proxy for the importance of a sample is the absolute value of the TD error:   \n",
    "\n",
    "$$p_i = |\\delta_t| = |R_{t+1} + \\gamma\\ \\underset{a}{max}\\ Q_{\\pi}(s_{t+1},a_{t+1}) - \\hat{Q}(s_t, a_t, \\mathbf{w}_t)|$$\n",
    "\n",
    "This prioritization is deterministic. But, the measure of TD error is only an estimate and subject to noise. The end result is that the above formulation has a tendency to over emphasize samples with larger TD errors. \n",
    "\n",
    "A stochastic approach is more suitable. The sampling probability, $P(i)$, of a data case is then expressed:\n",
    "\n",
    "$$P(i) = \\frac{p_i^a}{\\sum_k p_k^a}$$    \n",
    "\n",
    "The exponent, $\\alpha$, determines the degree of prioritization. When $\\alpha = 0$ the sampling distribution is uniform, the case already discussed. The closer  $\\alpha$ is to 1 the more sensitive the sampling distribution is to TD error.  \n",
    "\n",
    "Using importance sampled data introduces bias in learning. The bias arises since some data cases are more likely to occur than others. The adjustment for this bias is to use **importance sampling weighting** which can be computed as follows:\n",
    "\n",
    "$$w_i = \\frac{1}{max_i(w_i)}\\Big( \\frac{1}{N\\ P(i)} \\Big)^\\beta$$   \n",
    "\n",
    "The sampling weights are normalized by multiplying by 1/$max_i(w_i)$. If $\\beta = 1$, this formulation compensates for sampling bias. The **adjusted TD error** becomes $w_i \\delta_i$.  \n",
    "\n",
    "Using these normalized sampling weights, the mini-batches for stochastic gradient decent algorithm use the most important data samples. This sampling greatly improves the learning rate.     "
   ]
  },
  {
   "cell_type": "markdown",
   "metadata": {},
   "source": [
    "#### Copyright 2018, 2019, 2022, Stephen F. Elston. All rights reserved."
   ]
  }
 ],
 "metadata": {
  "kernelspec": {
   "display_name": "Python 3",
   "language": "python",
   "name": "python3"
  },
  "language_info": {
   "codemirror_mode": {
    "name": "ipython",
    "version": 3
   },
   "file_extension": ".py",
   "mimetype": "text/x-python",
   "name": "python",
   "nbconvert_exporter": "python",
   "pygments_lexer": "ipython3",
   "version": "3.8.8"
  }
 },
 "nbformat": 4,
 "nbformat_minor": 2
}
